{
 "cells": [
  {
   "cell_type": "markdown",
   "metadata": {},
   "source": [
    "# Representation I\n",
    "## Practical Exercises"
   ]
  },
  {
   "cell_type": "markdown",
   "metadata": {},
   "source": [
    "### Exercise 2\n",
    "** Archipelago:** We will experiment with using nearest neighbour to do prediction for **PARITY** under two input distributions: \n",
    "1. Uniform distribution, and \n",
    "2. Uniform distribution over instances with at most two nonzero inputs.\n",
    "\n",
    "Using a 20 dimensional input, we will randomly select 10,000 training examples.\n",
    "\n",
    "Before running the experiment, enter your prediction of the outcome in Archipelago:<br>\n",
    "A. Nearest neighbour does WELL on both (1) and (2).<br>\n",
    "B. Nearest neighbour does WELL on (1) but POORLY on (2). <br>\n",
    "C. Nearest neighbour does POORLY on (1) but WELL on (2).<br>\n",
    "D. Nearest neighbour does POORLY  on both (1) and (2)."
   ]
  },
  {
   "cell_type": "code",
   "execution_count": 1,
   "metadata": {},
   "outputs": [
    {
     "name": "stdout",
     "output_type": "stream",
     "text": [
      "Test set accuracy for uniform distribution: 0.69\n",
      "Test set accuracy for uniform distribution over instances with at most 2 nonzero inputs: 1.00\n"
     ]
    }
   ],
   "source": [
    "import numpy as np\n",
    "from sklearn import neighbors\n",
    "from sklearn.metrics import accuracy_score\n",
    "\n",
    "train_size = 10000\n",
    "test_size = 1000\n",
    "input_size = 20\n",
    "\n",
    "np.random.seed(0)\n",
    "\n",
    "# Construct training and test sets\n",
    "# Uniform input distribution\n",
    "train_data1 = np.random.randint(2,size=(train_size,input_size))\n",
    "train_label1 = train_data1.sum(axis=1)%2\n",
    "test_data1 = np.random.randint(2,size=(test_size,input_size))\n",
    "test_label1 = test_data1.sum(axis=1)%2 # compute PARITY\n",
    "# Uniform distribution over instances with at most two nonzero inputs\n",
    "train_data2 = np.zeros((train_size,input_size))\n",
    "for i in range(0,train_size):\n",
    "    num_ones = np.random.randint(3)\n",
    "    curr = np.array([1] * num_ones + [0] * (input_size - num_ones))\n",
    "    np.random.shuffle(curr)\n",
    "    train_data2[i] = curr\n",
    "train_label2 = train_data2.sum(axis=1)%2\n",
    "test_data2 = np.zeros((test_size,input_size))\n",
    "for i in range(0,test_size):\n",
    "    num_ones = np.random.randint(3)\n",
    "    curr = np.array([1] * num_ones + [0] * (input_size - num_ones))\n",
    "    np.random.shuffle(curr)\n",
    "    test_data2[i] = curr\n",
    "test_label2 = test_data2.sum(axis=1)%2\n",
    "\n",
    "# Run nearest neighbour classifier\n",
    "clf1 = neighbors.KNeighborsClassifier(1)\n",
    "clf1.fit(train_data1, train_label1)\n",
    "predict1 = clf1.predict(test_data1)\n",
    "clf2 = neighbors.KNeighborsClassifier(1)\n",
    "clf2.fit(train_data2, train_label2)\n",
    "predict1 = clf1.predict(test_data1)\n",
    "accuracy1 = accuracy_score(test_label1, predict1)\n",
    "predict2 = clf2.predict(test_data2)\n",
    "accuracy2 = accuracy_score(test_label2, predict2)\n",
    "\n",
    "# Print accuracies\n",
    "print(\"Test set accuracy for uniform distribution: \" + \"{0:.2f}\".format(accuracy1))\n",
    "print(\"Test set accuracy for uniform distribution over instances with at most 2 nonzero inputs: \" + \"{0:.2f}\".format(accuracy2))"
   ]
  },
  {
   "cell_type": "markdown",
   "metadata": {},
   "source": [
    "### Exercise 4\n",
    "** Archipelago:** Do you think doing feature selection would be helpful when using nearest neighbour for text classification? Answer with a phrase before running the experiment.\n",
    "\n",
    "We will use the 20 Newsgroup dataset in the experiment which uses the chi square method."
   ]
  },
  {
   "cell_type": "code",
   "execution_count": 2,
   "metadata": {},
   "outputs": [
    {
     "name": "stdout",
     "output_type": "stream",
     "text": [
      "Accuracy with no feature selection: 0.30\n",
      "Accuracy with 50 features: 0.55\n",
      "Accuracy with 100 features: 0.60\n",
      "Accuracy with 500 features: 0.58\n",
      "Accuracy with 1000 features: 0.55\n",
      "Accuracy with 5000 features: 0.34\n"
     ]
    }
   ],
   "source": [
    "from sklearn.datasets import fetch_20newsgroups\n",
    "from sklearn.feature_extraction.text import TfidfVectorizer\n",
    "from sklearn.feature_selection import SelectKBest, chi2\n",
    "from sklearn import neighbors\n",
    "from sklearn.metrics import accuracy_score\n",
    "\n",
    "# Select only 4 categories to speed things up\n",
    "categories = ['alt.atheism', 'soc.religion.christian','comp.graphics', 'sci.med']\n",
    "\n",
    "# Fetch training and test sets\n",
    "twenty_train = fetch_20newsgroups(subset='train', remove=('headers','footers','quotes'),\n",
    "                                  categories=categories, shuffle=True, random_state=42)\n",
    "twenty_test = fetch_20newsgroups(subset='test', remove=('headers','footers','quotes'),\n",
    "                                 categories=categories, shuffle=True, random_state=42)\n",
    "\n",
    "# Use tfidf\n",
    "vectorizer = TfidfVectorizer()\n",
    "vectors = vectorizer.fit_transform(twenty_train.data)\n",
    "vectors_test = vectorizer.transform(twenty_test.data)\n",
    "\n",
    "# No feature selection\n",
    "clf = neighbors.KNeighborsClassifier(1)\n",
    "clf.fit(vectors, twenty_train.target)\n",
    "predict = clf.predict(vectors_test)\n",
    "accuracy = accuracy_score(twenty_test.target, predict)\n",
    "print(\"Accuracy with no feature selection: \" + \"{0:.2f}\".format(accuracy))\n",
    "\n",
    "# Feature selection with different number of features selected\n",
    "fs_num = [50, 100, 500, 1000, 5000]\n",
    "for i in fs_num:\n",
    "    fs = SelectKBest(chi2, k=i)\n",
    "    vectors_fs = fs.fit_transform(vectors, twenty_train.target)\n",
    "    vectors_test_fs = fs.transform(vectors_test)\n",
    "    clf = neighbors.KNeighborsClassifier(1)\n",
    "    clf.fit(vectors_fs, twenty_train.target)\n",
    "    predict = clf.predict(vectors_test_fs)\n",
    "    accuracy = accuracy_score(twenty_test.target, predict)\n",
    "    print(\"Accuracy with \" + str(i) + \" features: \" + \"{0:.2f}\".format(accuracy))  "
   ]
  },
  {
   "cell_type": "markdown",
   "metadata": {},
   "source": [
    "### Exercise 5\n",
    "![Iris image](https://raw.githubusercontent.com/justmarkham/scikit-learn-videos/84f03ae1d048482471f2a9ca85b0c649730cc269/images/03_iris.png \"Image from https://github.com/justmarkham/scikit-learn-videos/blob/master/03_getting_started_with_iris.ipynb\")\n",
    "<center>*Image from https://github.com/justmarkham/scikit-learn-videos/blob/master/03_getting_started_with_iris.ipynb*</center>\n",
    "\n",
    "The Iris dataset contains 50 samples each of three types of the Iris flower: Iris Setosa, Iris Versicolor, and Iris Virginica. For each sample, the following measurements are given: sepal length, sepal width, petal width, petal length.\n",
    "\n",
    "Run the experiment to build a decision tree for classifying Iris flowers based on their measurements.\n",
    "\n",
    "From the visualization of the tree, write down a rule that correctly classifies all cases of Iris Setosa. How many disjunction of rules would cover all cases of positive instances of Iris Versicolor?"
   ]
  },
  {
   "cell_type": "code",
   "execution_count": 4,
   "metadata": {},
   "outputs": [
    {
     "ename": "InvocationException",
     "evalue": "GraphViz's executables not found",
     "output_type": "error",
     "traceback": [
      "\u001b[1;31m---------------------------------------------------------------------------\u001b[0m",
      "\u001b[1;31mInvocationException\u001b[0m                       Traceback (most recent call last)",
      "\u001b[1;32m<ipython-input-4-1a37106232bb>\u001b[0m in \u001b[0;36m<module>\u001b[1;34m\u001b[0m\n\u001b[0;32m     14\u001b[0m                          special_characters=True)  \n\u001b[0;32m     15\u001b[0m \u001b[0mgraph\u001b[0m \u001b[1;33m=\u001b[0m \u001b[0mpydotplus\u001b[0m\u001b[1;33m.\u001b[0m\u001b[0mgraph_from_dot_data\u001b[0m\u001b[1;33m(\u001b[0m\u001b[0mdot_data\u001b[0m\u001b[1;33m)\u001b[0m\u001b[1;33m\u001b[0m\u001b[1;33m\u001b[0m\u001b[0m\n\u001b[1;32m---> 16\u001b[1;33m \u001b[0mImage\u001b[0m\u001b[1;33m(\u001b[0m\u001b[0mgraph\u001b[0m\u001b[1;33m.\u001b[0m\u001b[0mcreate_png\u001b[0m\u001b[1;33m(\u001b[0m\u001b[1;33m)\u001b[0m\u001b[1;33m)\u001b[0m\u001b[1;33m\u001b[0m\u001b[1;33m\u001b[0m\u001b[0m\n\u001b[0m",
      "\u001b[1;32m~\\AppData\\Local\\Continuum\\anaconda3\\lib\\site-packages\\pydotplus\\graphviz.py\u001b[0m in \u001b[0;36m<lambda>\u001b[1;34m(f, prog)\u001b[0m\n\u001b[0;32m   1795\u001b[0m             self.__setattr__(\n\u001b[0;32m   1796\u001b[0m                 \u001b[1;34m'create_'\u001b[0m \u001b[1;33m+\u001b[0m \u001b[0mfrmt\u001b[0m\u001b[1;33m,\u001b[0m\u001b[1;33m\u001b[0m\u001b[1;33m\u001b[0m\u001b[0m\n\u001b[1;32m-> 1797\u001b[1;33m                 \u001b[1;32mlambda\u001b[0m \u001b[0mf\u001b[0m\u001b[1;33m=\u001b[0m\u001b[0mfrmt\u001b[0m\u001b[1;33m,\u001b[0m \u001b[0mprog\u001b[0m\u001b[1;33m=\u001b[0m\u001b[0mself\u001b[0m\u001b[1;33m.\u001b[0m\u001b[0mprog\u001b[0m\u001b[1;33m:\u001b[0m \u001b[0mself\u001b[0m\u001b[1;33m.\u001b[0m\u001b[0mcreate\u001b[0m\u001b[1;33m(\u001b[0m\u001b[0mformat\u001b[0m\u001b[1;33m=\u001b[0m\u001b[0mf\u001b[0m\u001b[1;33m,\u001b[0m \u001b[0mprog\u001b[0m\u001b[1;33m=\u001b[0m\u001b[0mprog\u001b[0m\u001b[1;33m)\u001b[0m\u001b[1;33m\u001b[0m\u001b[1;33m\u001b[0m\u001b[0m\n\u001b[0m\u001b[0;32m   1798\u001b[0m             )\n\u001b[0;32m   1799\u001b[0m             \u001b[0mf\u001b[0m \u001b[1;33m=\u001b[0m \u001b[0mself\u001b[0m\u001b[1;33m.\u001b[0m\u001b[0m__dict__\u001b[0m\u001b[1;33m[\u001b[0m\u001b[1;34m'create_'\u001b[0m \u001b[1;33m+\u001b[0m \u001b[0mfrmt\u001b[0m\u001b[1;33m]\u001b[0m\u001b[1;33m\u001b[0m\u001b[1;33m\u001b[0m\u001b[0m\n",
      "\u001b[1;32m~\\AppData\\Local\\Continuum\\anaconda3\\lib\\site-packages\\pydotplus\\graphviz.py\u001b[0m in \u001b[0;36mcreate\u001b[1;34m(self, prog, format)\u001b[0m\n\u001b[0;32m   1958\u001b[0m             \u001b[1;32mif\u001b[0m \u001b[0mself\u001b[0m\u001b[1;33m.\u001b[0m\u001b[0mprogs\u001b[0m \u001b[1;32mis\u001b[0m \u001b[1;32mNone\u001b[0m\u001b[1;33m:\u001b[0m\u001b[1;33m\u001b[0m\u001b[1;33m\u001b[0m\u001b[0m\n\u001b[0;32m   1959\u001b[0m                 raise InvocationException(\n\u001b[1;32m-> 1960\u001b[1;33m                     'GraphViz\\'s executables not found')\n\u001b[0m\u001b[0;32m   1961\u001b[0m \u001b[1;33m\u001b[0m\u001b[0m\n\u001b[0;32m   1962\u001b[0m         \u001b[1;32mif\u001b[0m \u001b[0mprog\u001b[0m \u001b[1;32mnot\u001b[0m \u001b[1;32min\u001b[0m \u001b[0mself\u001b[0m\u001b[1;33m.\u001b[0m\u001b[0mprogs\u001b[0m\u001b[1;33m:\u001b[0m\u001b[1;33m\u001b[0m\u001b[1;33m\u001b[0m\u001b[0m\n",
      "\u001b[1;31mInvocationException\u001b[0m: GraphViz's executables not found"
     ]
    }
   ],
   "source": [
    "from sklearn.datasets import load_iris\n",
    "from sklearn import tree\n",
    "iris = load_iris()\n",
    "clf = tree.DecisionTreeClassifier()\n",
    "clf = clf.fit(iris.data, iris.target)\n",
    "\n",
    "from IPython.display import Image\n",
    "import pydotplus \n",
    "\n",
    "dot_data = tree.export_graphviz(clf, out_file=None, \n",
    "                         feature_names=iris.feature_names,  \n",
    "                         class_names=iris.target_names,  \n",
    "                         filled=True, rounded=True,  \n",
    "                         special_characters=True)  \n",
    "graph = pydotplus.graph_from_dot_data(dot_data)  \n",
    "Image(graph.create_png())"
   ]
  },
  {
   "cell_type": "markdown",
   "metadata": {},
   "source": [
    "### Exercise 6\n",
    "In this exercise, we look at the performance of learning a decision tree on DISTINCT. We will also try using ensemble (weighted average) of decision trees on the same problem.  \n",
    "\n",
    "Before running the experiment, predict which algorithm would do better and say why. "
   ]
  },
  {
   "cell_type": "code",
   "execution_count": 6,
   "metadata": {},
   "outputs": [
    {
     "name": "stdout",
     "output_type": "stream",
     "text": [
      "DT accuracy on DISTINCT: 0.69\n",
      "Boosted decision tree accuracy on DISTINCT: 1.00\n"
     ]
    }
   ],
   "source": [
    "import numpy as np\n",
    "from sklearn.metrics import accuracy_score\n",
    "from sklearn.ensemble import AdaBoostClassifier\n",
    "from sklearn import tree\n",
    "\n",
    "train_size = 1000\n",
    "test_size = 1000\n",
    "input_size = 20\n",
    "\n",
    "np.random.seed(0)\n",
    "\n",
    "# Construct training and test sets\n",
    "train_data = np.random.randint(2,size=(train_size,input_size))\n",
    "train_data[:,int(input_size/2):] = train_data[:,:int(input_size/2)] # make equal\n",
    "# Create labels\n",
    "train_label = np.zeros(train_size)\n",
    "for i in range(0,train_size):\n",
    "    distinct = np.random.randint(2) # Equally likely to be distinct\n",
    "    if (distinct == 1):\n",
    "        train_label[i] = 1\n",
    "        rand_pos = np.random.randint(input_size/2) # randomly select an input and make it different\n",
    "        train_data[i][rand_pos] = (train_data[i][rand_pos]+1)%2\n",
    "        \n",
    "test_data = np.random.randint(2,size=(test_size,input_size))\n",
    "test_data[:,int(input_size/2):] = test_data[:,:int(input_size/2)] # make equal\n",
    "test_label = np.zeros(test_size)\n",
    "for i in range(0,test_size):\n",
    "    distinct = np.random.randint(2)\n",
    "    if (distinct == 1):\n",
    "        test_label[i] = 1\n",
    "        rand_pos = np.random.randint(input_size/2)\n",
    "        test_data[i][rand_pos] = (test_data[i][rand_pos]+1)%2\n",
    "\n",
    "clf = tree.DecisionTreeClassifier(random_state=42)\n",
    "clf = clf.fit(train_data, train_label)\n",
    "predict = clf.predict(test_data)\n",
    "accuracy = accuracy_score(test_label, predict)\n",
    "print(\"DT accuracy on DISTINCT: \" + \"{0:.2f}\".format(accuracy))\n",
    "\n",
    "clf = AdaBoostClassifier(tree.DecisionTreeClassifier(max_depth=2),\n",
    "                         n_estimators=50,random_state=42)\n",
    "clf = clf.fit(train_data, train_label)\n",
    "predict = clf.predict(test_data)\n",
    "accuracy = accuracy_score(test_label, predict)\n",
    "print(\"Boosted decision tree accuracy on DISTINCT: \" + \"{0:.2f}\".format(accuracy))"
   ]
  },
  {
   "cell_type": "markdown",
   "metadata": {},
   "source": [
    "### Exercise 7\n",
    "\n",
    "The **Australian** credit approval dataset illustrates multiple practical issues.\n",
    "* Missing feature values: This is very common in practice. This can be handled in various ways.\n",
    " * Removing instances with missing feature values. This may be fine if the number of such instances is small. However, the issue still has to be handled when the predictor is deployed.\n",
    " * Imputing (predicting and filling in) the missing values. May affect performance if prediction is poor.\n",
    " * Encoding the missing value as a special value. This may be appropriate if the value is not missing at random and being missing actually provides some information.\n",
    " * Algorithm specific method. Decision trees have specific methods for handling missing values (e.g. averaging over both paths down the tree at the missing node) but this is not implemented in Scikit Learn. Generative models handle missing values naturally as part of probabilistic inference.\n",
    "* The Australian dataset has a mix of continuous and categorical feature.\n",
    "* For confidentiality purposes, feature names and values have been changed into meaningless symbols in the dataset. As a result, we cannot use our exploit knowledge of the problem to construct better predictors. One question is how to handle the categorical feature.\n",
    " * If the feature is an ordinal variable, i.e. the values are ordered, it may sometimes be useful to map the values to integers or reals, particularly if we expect the target value to change monotonically with the value of the feature.\n",
    " * If the feature is a nominal variable, i.e. the values cannot be ordered, mapping the values to integers or reals may not make sense. Some decision tree algorithms can do a multiway split at the variable with one child for each possible variable value. However, Scikit Learn simply treats all variables as integers/reals and do binary tests with $\\leq$.\n",
    " \n",
    " \n",
    "In this dataset, missing values are handled by imputation: mean values are used for continuous variables, and mode is used for categorical variables. For datasets like this, one strength of decision trees is that it is somewhat less sensitive to appropriate processing of variables.\n",
    "\n",
    "Before running the experiments, answer the following in Archipelago.\n",
    "\n",
    "Do you think the decision tree algorithm is sensitive to scaling of the variables? Yes or No.\n",
    " "
   ]
  },
  {
   "cell_type": "code",
   "execution_count": 5,
   "metadata": {
    "scrolled": true
   },
   "outputs": [
    {
     "ename": "FileNotFoundError",
     "evalue": "[Errno 2] No such file or directory: 'australian.txt'",
     "output_type": "error",
     "traceback": [
      "\u001b[1;31m---------------------------------------------------------------------------\u001b[0m",
      "\u001b[1;31mFileNotFoundError\u001b[0m                         Traceback (most recent call last)",
      "\u001b[1;32m<ipython-input-5-a2a65be475d8>\u001b[0m in \u001b[0;36m<module>\u001b[1;34m\u001b[0m\n\u001b[0;32m      5\u001b[0m \u001b[1;32mfrom\u001b[0m \u001b[0msklearn\u001b[0m \u001b[1;32mimport\u001b[0m \u001b[0mneighbors\u001b[0m\u001b[1;33m\u001b[0m\u001b[1;33m\u001b[0m\u001b[0m\n\u001b[0;32m      6\u001b[0m \u001b[1;33m\u001b[0m\u001b[0m\n\u001b[1;32m----> 7\u001b[1;33m \u001b[0mX\u001b[0m\u001b[1;33m,\u001b[0m \u001b[0my\u001b[0m \u001b[1;33m=\u001b[0m \u001b[0mload_svmlight_file\u001b[0m\u001b[1;33m(\u001b[0m\u001b[1;34m\"australian.txt\"\u001b[0m\u001b[1;33m)\u001b[0m\u001b[1;33m\u001b[0m\u001b[1;33m\u001b[0m\u001b[0m\n\u001b[0m\u001b[0;32m      8\u001b[0m \u001b[1;31m# Should really repeat this with many random splits to get more reliable results; try various splits\u001b[0m\u001b[1;33m\u001b[0m\u001b[1;33m\u001b[0m\u001b[1;33m\u001b[0m\u001b[0m\n\u001b[0;32m      9\u001b[0m \u001b[1;31m# by changing random_state\u001b[0m\u001b[1;33m\u001b[0m\u001b[1;33m\u001b[0m\u001b[1;33m\u001b[0m\u001b[0m\n",
      "\u001b[1;32m~\\AppData\\Local\\Continuum\\anaconda3\\lib\\site-packages\\sklearn\\datasets\\svmlight_format.py\u001b[0m in \u001b[0;36mload_svmlight_file\u001b[1;34m(f, n_features, dtype, multilabel, zero_based, query_id, offset, length)\u001b[0m\n\u001b[0;32m    153\u001b[0m     \"\"\"\n\u001b[0;32m    154\u001b[0m     return tuple(load_svmlight_files([f], n_features, dtype, multilabel,\n\u001b[1;32m--> 155\u001b[1;33m                                      zero_based, query_id, offset, length))\n\u001b[0m\u001b[0;32m    156\u001b[0m \u001b[1;33m\u001b[0m\u001b[0m\n\u001b[0;32m    157\u001b[0m \u001b[1;33m\u001b[0m\u001b[0m\n",
      "\u001b[1;32m~\\AppData\\Local\\Continuum\\anaconda3\\lib\\site-packages\\sklearn\\datasets\\svmlight_format.py\u001b[0m in \u001b[0;36mload_svmlight_files\u001b[1;34m(files, n_features, dtype, multilabel, zero_based, query_id, offset, length)\u001b[0m\n\u001b[0;32m    295\u001b[0m     r = [_open_and_load(f, dtype, multilabel, bool(zero_based), bool(query_id),\n\u001b[0;32m    296\u001b[0m                         offset=offset, length=length)\n\u001b[1;32m--> 297\u001b[1;33m          for f in files]\n\u001b[0m\u001b[0;32m    298\u001b[0m \u001b[1;33m\u001b[0m\u001b[0m\n\u001b[0;32m    299\u001b[0m     if (zero_based is False or\n",
      "\u001b[1;32m~\\AppData\\Local\\Continuum\\anaconda3\\lib\\site-packages\\sklearn\\datasets\\svmlight_format.py\u001b[0m in \u001b[0;36m<listcomp>\u001b[1;34m(.0)\u001b[0m\n\u001b[0;32m    295\u001b[0m     r = [_open_and_load(f, dtype, multilabel, bool(zero_based), bool(query_id),\n\u001b[0;32m    296\u001b[0m                         offset=offset, length=length)\n\u001b[1;32m--> 297\u001b[1;33m          for f in files]\n\u001b[0m\u001b[0;32m    298\u001b[0m \u001b[1;33m\u001b[0m\u001b[0m\n\u001b[0;32m    299\u001b[0m     if (zero_based is False or\n",
      "\u001b[1;32m~\\AppData\\Local\\Continuum\\anaconda3\\lib\\site-packages\\sklearn\\datasets\\svmlight_format.py\u001b[0m in \u001b[0;36m_open_and_load\u001b[1;34m(f, dtype, multilabel, zero_based, query_id, offset, length)\u001b[0m\n\u001b[0;32m    180\u001b[0m                                 offset, length)\n\u001b[0;32m    181\u001b[0m     \u001b[1;32melse\u001b[0m\u001b[1;33m:\u001b[0m\u001b[1;33m\u001b[0m\u001b[1;33m\u001b[0m\u001b[0m\n\u001b[1;32m--> 182\u001b[1;33m         \u001b[1;32mwith\u001b[0m \u001b[0mclosing\u001b[0m\u001b[1;33m(\u001b[0m\u001b[0m_gen_open\u001b[0m\u001b[1;33m(\u001b[0m\u001b[0mf\u001b[0m\u001b[1;33m)\u001b[0m\u001b[1;33m)\u001b[0m \u001b[1;32mas\u001b[0m \u001b[0mf\u001b[0m\u001b[1;33m:\u001b[0m\u001b[1;33m\u001b[0m\u001b[1;33m\u001b[0m\u001b[0m\n\u001b[0m\u001b[0;32m    183\u001b[0m             \u001b[0mactual_dtype\u001b[0m\u001b[1;33m,\u001b[0m \u001b[0mdata\u001b[0m\u001b[1;33m,\u001b[0m \u001b[0mind\u001b[0m\u001b[1;33m,\u001b[0m \u001b[0mindptr\u001b[0m\u001b[1;33m,\u001b[0m \u001b[0mlabels\u001b[0m\u001b[1;33m,\u001b[0m \u001b[0mquery\u001b[0m \u001b[1;33m=\u001b[0m\u001b[0;31m \u001b[0m\u001b[0;31m\\\u001b[0m\u001b[1;33m\u001b[0m\u001b[1;33m\u001b[0m\u001b[0m\n\u001b[0;32m    184\u001b[0m                 _load_svmlight_file(f, dtype, multilabel, zero_based, query_id,\n",
      "\u001b[1;32m~\\AppData\\Local\\Continuum\\anaconda3\\lib\\site-packages\\sklearn\\datasets\\svmlight_format.py\u001b[0m in \u001b[0;36m_gen_open\u001b[1;34m(f)\u001b[0m\n\u001b[0;32m    170\u001b[0m         \u001b[1;32mreturn\u001b[0m \u001b[0mBZ2File\u001b[0m\u001b[1;33m(\u001b[0m\u001b[0mf\u001b[0m\u001b[1;33m,\u001b[0m \u001b[1;34m\"rb\"\u001b[0m\u001b[1;33m)\u001b[0m\u001b[1;33m\u001b[0m\u001b[1;33m\u001b[0m\u001b[0m\n\u001b[0;32m    171\u001b[0m     \u001b[1;32melse\u001b[0m\u001b[1;33m:\u001b[0m\u001b[1;33m\u001b[0m\u001b[1;33m\u001b[0m\u001b[0m\n\u001b[1;32m--> 172\u001b[1;33m         \u001b[1;32mreturn\u001b[0m \u001b[0mopen\u001b[0m\u001b[1;33m(\u001b[0m\u001b[0mf\u001b[0m\u001b[1;33m,\u001b[0m \u001b[1;34m\"rb\"\u001b[0m\u001b[1;33m)\u001b[0m\u001b[1;33m\u001b[0m\u001b[1;33m\u001b[0m\u001b[0m\n\u001b[0m\u001b[0;32m    173\u001b[0m \u001b[1;33m\u001b[0m\u001b[0m\n\u001b[0;32m    174\u001b[0m \u001b[1;33m\u001b[0m\u001b[0m\n",
      "\u001b[1;31mFileNotFoundError\u001b[0m: [Errno 2] No such file or directory: 'australian.txt'"
     ]
    }
   ],
   "source": [
    "from sklearn.datasets import load_svmlight_file\n",
    "from sklearn.model_selection import train_test_split\n",
    "from sklearn import preprocessing\n",
    "from sklearn.ensemble import AdaBoostClassifier\n",
    "from sklearn import neighbors\n",
    "\n",
    "X, y = load_svmlight_file(\"australian.txt\")\n",
    "# Should really repeat this with many random splits to get more reliable results; try various splits\n",
    "# by changing random_state\n",
    "X_train, X_test, y_train, y_test = train_test_split(X, y, test_size=0.33, random_state=42)\n",
    "# Scale and split data\n",
    "scaler = preprocessing.MaxAbsScaler()\n",
    "X_train_scaled = scaler.fit_transform(X_train)\n",
    "X_test_scaled = scaler.transform(X_test)\n",
    "\n",
    "# Decision tree on original data\n",
    "clf = tree.DecisionTreeClassifier(random_state=42)\n",
    "clf = clf.fit(X_train, y_train)\n",
    "predict = clf.predict(X_test)\n",
    "accuracy = accuracy_score(y_test, predict)\n",
    "print(\"DT accuracy with original data: \" + \"{0:.2f}\".format(accuracy))\n",
    "\n",
    "# Decision tree on scaled data\n",
    "clf = tree.DecisionTreeClassifier(random_state=42)\n",
    "clf = clf.fit(X_train_scaled, y_train)\n",
    "predict = clf.predict(X_test_scaled)\n",
    "accuracy = accuracy_score(y_test, predict)\n",
    "print(\"DT accuracy with scaled data: \" + \"{0:.2f}\".format(accuracy) + \"\\n\")\n",
    "\n",
    "# Nearest neighbour on original data\n",
    "clf = neighbors.KNeighborsClassifier(1)\n",
    "clf = clf.fit(X_train, y_train)\n",
    "predict = clf.predict(X_test)\n",
    "accuracy = accuracy_score(y_test, predict)\n",
    "print(\"NN accuracy with original data: \" + \"{0:.2f}\".format(accuracy))\n",
    "\n",
    "# Nearest neighbour on scaled data\n",
    "clf = neighbors.KNeighborsClassifier(1)\n",
    "clf = clf.fit(X_train_scaled, y_train)\n",
    "predict = clf.predict(X_test_scaled)\n",
    "accuracy = accuracy_score(y_test, predict)\n",
    "print(\"NN accuracy with scaled data: \" + \"{0:.2f}\".format(accuracy) + \"\\n\")\n",
    "\n",
    "# Boosted decision tree on original data\n",
    "clf = AdaBoostClassifier(tree.DecisionTreeClassifier(max_depth=5),\n",
    "                         n_estimators=50,random_state=42)\n",
    "clf = clf.fit(X_train, y_train)\n",
    "predict = clf.predict(X_test)\n",
    "accuracy = accuracy_score(y_test, predict)\n",
    "print(\"Boosted decision tree accuracy with original data: \" + \"{0:.2f}\".format(accuracy))"
   ]
  },
  {
   "cell_type": "code",
   "execution_count": null,
   "metadata": {},
   "outputs": [],
   "source": [
    "DT original: 0.82\n",
    "DT scaled  : 0.81\n",
    "    \n",
    "NN original: 0.67\n",
    "NN scaled  : 0.80 (More sensitive to scaling)"
   ]
  },
  {
   "cell_type": "markdown",
   "metadata": {},
   "source": [
    "### Exercise 8\n",
    "In Scikit Learn, the SVC classifier optimizes $\\frac{1}{2}\\|\\mathbf{w}\\|^2 + C\\sum_{i=1}^m \\xi_i$. In the experiment, we create a separable dataset from two Gaussians in 2 dimension centered at $(2,2)$ and $(-2,-2)$ and run the soft SVM with $C=1$ and $C=0.001$. In the plots\n",
    "* The decision boundary is the solid line.\n",
    "* The dotted lines are the lines where the function has magnitude 1.\n",
    "* The larger circles show the points where $\\alpha_i\\neq 0$.\n",
    "Write down some observations about the resulting plots."
   ]
  },
  {
   "cell_type": "code",
   "execution_count": 9,
   "metadata": {},
   "outputs": [
    {
     "data": {
      "image/png": "[encoded data removed]",
      "text/plain": [
       "<Figure size 504x504 with 1 Axes>"
      ]
     },
     "metadata": {},
     "output_type": "display_data"
    },
    {
     "data": {
      "image/png": "[encoded data removed]",
      "text/plain": [
       "<Figure size 504x504 with 1 Axes>"
      ]
     },
     "metadata": {},
     "output_type": "display_data"
    }
   ],
   "source": [
    "# Modified from  http://scikit-learn.org/stable/auto_examples/svm/plot_svm_margin.html.\n",
    "# Code source: Gaël Varoquaux\n",
    "# Modified for documentation by Jaques Grobler\n",
    "# License: BSD 3 clause\n",
    "\n",
    "import numpy as np\n",
    "import matplotlib.pyplot as plt\n",
    "from sklearn import svm\n",
    "from sklearn.metrics import accuracy_score\n",
    "\n",
    "# we create 40 separable points\n",
    "np.random.seed(2)\n",
    "X = np.r_[np.random.randn(20, 2) - [2, 2], np.random.randn(20, 2) + [2, 2]]\n",
    "Y = [0] * 20 + [1] * 20\n",
    "\n",
    "# figure number\n",
    "fignum = 1\n",
    "\n",
    "# fit the model\n",
    "for name, penalty in (('reg1', 1), ('reg2', 0.01)):\n",
    "\n",
    "    clf = svm.SVC(kernel='linear', C=penalty)\n",
    "    clf.fit(X, Y)\n",
    "\n",
    "    # get the separating hyperplane\n",
    "    w = clf.coef_[0]\n",
    "    a = -w[0] / w[1]\n",
    "    xx = np.linspace(-5, 5)\n",
    "    yy = a * xx - (clf.intercept_[0]) / w[1]\n",
    "\n",
    "    # plot the parallels to the separating hyperplane with function value 1\n",
    "    yy_down = yy - 1/w[1]\n",
    "    yy_up = yy + 1/w[1]\n",
    "\n",
    "    # plot the line, the points, and the nearest vectors to the plane\n",
    "    plt.figure(fignum, figsize=(7, 7))\n",
    "    plt.clf()\n",
    "    plt.plot(xx, yy, 'k-')\n",
    "    plt.plot(xx, yy_down, 'k--')\n",
    "    plt.plot(xx, yy_up, 'k--')\n",
    "\n",
    "    plt.scatter(clf.support_vectors_[:, 0], clf.support_vectors_[:, 1], s=80,\n",
    "                zorder=10)\n",
    "    plt.scatter(X[:, 0], X[:, 1], c=Y, zorder=10, cmap=plt.cm.Paired)\n",
    "\n",
    "    plt.axis('tight')\n",
    "    x_min = -5\n",
    "    x_max = 5\n",
    "    y_min = -5\n",
    "    y_max = 5\n",
    "\n",
    "    XX, YY = np.mgrid[x_min:x_max:200j, y_min:y_max:200j]\n",
    "    Z = clf.predict(np.c_[XX.ravel(), YY.ravel()])\n",
    "\n",
    "    # Put the result into a color plot\n",
    "    Z = Z.reshape(XX.shape)\n",
    "    plt.figure(fignum, figsize=(4, 3))\n",
    "\n",
    "    plt.xlim(x_min, x_max)\n",
    "    plt.ylim(y_min, y_max)\n",
    "\n",
    "    plt.xticks(())\n",
    "    plt.yticks(())\n",
    "    fignum = fignum + 1\n",
    "\n",
    "plt.show()"
   ]
  },
  {
   "cell_type": "markdown",
   "metadata": {},
   "source": [
    "### Exercise 9\n",
    "In the **Adult Census dataset** we are given information about individuals obtained from the US census and asked to predict whether the person earns more than US\\$50K a year. The features consist of \n",
    "* Continuous features \"Age\", \"fnlwgt\", \"Education-Num\", \"Capital Gain\", \"Capital Loss\", \"Hours per week\", and\n",
    "* Categorical features \"Workclass\", \"Education\", \"Marital Status\", \"Occupation\", \"Relationship\", \"Race\", \"Sex\", \"Country\". \n",
    "\n",
    "Categorical features cannot be used directly in a linear classifier. One simple way to handle this is to simply map each category of a feature to an integer.\n",
    "\n",
    "Before running the exercise, think of a potentially better way to handle categorical variable and write it down. Run the experiment, then discuss."
   ]
  },
  {
   "cell_type": "code",
   "execution_count": 10,
   "metadata": {},
   "outputs": [
    {
     "ename": "OSError",
     "evalue": "adult.txt not found.",
     "output_type": "error",
     "traceback": [
      "\u001b[1;31m---------------------------------------------------------------------------\u001b[0m",
      "\u001b[1;31mOSError\u001b[0m                                   Traceback (most recent call last)",
      "\u001b[1;32m<ipython-input-10-f228ec4c48b9>\u001b[0m in \u001b[0;36m<module>\u001b[1;34m\u001b[0m\n\u001b[0;32m      8\u001b[0m                  \u001b[1;34m\"Occupation\"\u001b[0m\u001b[1;33m,\u001b[0m \u001b[1;34m\"Relationship\"\u001b[0m\u001b[1;33m,\u001b[0m \u001b[1;34m\"Race\"\u001b[0m\u001b[1;33m,\u001b[0m \u001b[1;34m\"Sex\"\u001b[0m\u001b[1;33m,\u001b[0m \u001b[1;34m\"Capital Gain\"\u001b[0m\u001b[1;33m,\u001b[0m \u001b[1;34m\"Capital Loss\"\u001b[0m\u001b[1;33m,\u001b[0m\u001b[1;33m\u001b[0m\u001b[1;33m\u001b[0m\u001b[0m\n\u001b[0;32m      9\u001b[0m                  \"Hours per week\", \"Country\"]\n\u001b[1;32m---> 10\u001b[1;33m \u001b[0mdata\u001b[0m \u001b[1;33m=\u001b[0m \u001b[0mnp\u001b[0m\u001b[1;33m.\u001b[0m\u001b[0mgenfromtxt\u001b[0m\u001b[1;33m(\u001b[0m\u001b[1;34m'adult.txt'\u001b[0m\u001b[1;33m,\u001b[0m \u001b[0mdelimiter\u001b[0m\u001b[1;33m=\u001b[0m\u001b[1;34m', '\u001b[0m\u001b[1;33m,\u001b[0m \u001b[0mdtype\u001b[0m\u001b[1;33m=\u001b[0m\u001b[0mstr\u001b[0m\u001b[1;33m)\u001b[0m\u001b[1;33m\u001b[0m\u001b[1;33m\u001b[0m\u001b[0m\n\u001b[0m\u001b[0;32m     11\u001b[0m \u001b[1;33m\u001b[0m\u001b[0m\n\u001b[0;32m     12\u001b[0m \u001b[1;31m# Extract labels\u001b[0m\u001b[1;33m\u001b[0m\u001b[1;33m\u001b[0m\u001b[1;33m\u001b[0m\u001b[0m\n",
      "\u001b[1;32m~\\Anaconda3\\lib\\site-packages\\numpy\\lib\\npyio.py\u001b[0m in \u001b[0;36mgenfromtxt\u001b[1;34m(fname, dtype, comments, delimiter, skip_header, skip_footer, converters, missing_values, filling_values, usecols, names, excludelist, deletechars, replace_space, autostrip, case_sensitive, defaultfmt, unpack, usemask, loose, invalid_raise, max_rows, encoding)\u001b[0m\n\u001b[0;32m   1742\u001b[0m             \u001b[0mfname\u001b[0m \u001b[1;33m=\u001b[0m \u001b[0mos_fspath\u001b[0m\u001b[1;33m(\u001b[0m\u001b[0mfname\u001b[0m\u001b[1;33m)\u001b[0m\u001b[1;33m\u001b[0m\u001b[1;33m\u001b[0m\u001b[0m\n\u001b[0;32m   1743\u001b[0m         \u001b[1;32mif\u001b[0m \u001b[0misinstance\u001b[0m\u001b[1;33m(\u001b[0m\u001b[0mfname\u001b[0m\u001b[1;33m,\u001b[0m \u001b[0mbasestring\u001b[0m\u001b[1;33m)\u001b[0m\u001b[1;33m:\u001b[0m\u001b[1;33m\u001b[0m\u001b[1;33m\u001b[0m\u001b[0m\n\u001b[1;32m-> 1744\u001b[1;33m             \u001b[0mfhd\u001b[0m \u001b[1;33m=\u001b[0m \u001b[0miter\u001b[0m\u001b[1;33m(\u001b[0m\u001b[0mnp\u001b[0m\u001b[1;33m.\u001b[0m\u001b[0mlib\u001b[0m\u001b[1;33m.\u001b[0m\u001b[0m_datasource\u001b[0m\u001b[1;33m.\u001b[0m\u001b[0mopen\u001b[0m\u001b[1;33m(\u001b[0m\u001b[0mfname\u001b[0m\u001b[1;33m,\u001b[0m \u001b[1;34m'rt'\u001b[0m\u001b[1;33m,\u001b[0m \u001b[0mencoding\u001b[0m\u001b[1;33m=\u001b[0m\u001b[0mencoding\u001b[0m\u001b[1;33m)\u001b[0m\u001b[1;33m)\u001b[0m\u001b[1;33m\u001b[0m\u001b[1;33m\u001b[0m\u001b[0m\n\u001b[0m\u001b[0;32m   1745\u001b[0m             \u001b[0mown_fhd\u001b[0m \u001b[1;33m=\u001b[0m \u001b[1;32mTrue\u001b[0m\u001b[1;33m\u001b[0m\u001b[1;33m\u001b[0m\u001b[0m\n\u001b[0;32m   1746\u001b[0m         \u001b[1;32melse\u001b[0m\u001b[1;33m:\u001b[0m\u001b[1;33m\u001b[0m\u001b[1;33m\u001b[0m\u001b[0m\n",
      "\u001b[1;32m~\\Anaconda3\\lib\\site-packages\\numpy\\lib\\_datasource.py\u001b[0m in \u001b[0;36mopen\u001b[1;34m(path, mode, destpath, encoding, newline)\u001b[0m\n\u001b[0;32m    264\u001b[0m \u001b[1;33m\u001b[0m\u001b[0m\n\u001b[0;32m    265\u001b[0m     \u001b[0mds\u001b[0m \u001b[1;33m=\u001b[0m \u001b[0mDataSource\u001b[0m\u001b[1;33m(\u001b[0m\u001b[0mdestpath\u001b[0m\u001b[1;33m)\u001b[0m\u001b[1;33m\u001b[0m\u001b[1;33m\u001b[0m\u001b[0m\n\u001b[1;32m--> 266\u001b[1;33m     \u001b[1;32mreturn\u001b[0m \u001b[0mds\u001b[0m\u001b[1;33m.\u001b[0m\u001b[0mopen\u001b[0m\u001b[1;33m(\u001b[0m\u001b[0mpath\u001b[0m\u001b[1;33m,\u001b[0m \u001b[0mmode\u001b[0m\u001b[1;33m,\u001b[0m \u001b[0mencoding\u001b[0m\u001b[1;33m=\u001b[0m\u001b[0mencoding\u001b[0m\u001b[1;33m,\u001b[0m \u001b[0mnewline\u001b[0m\u001b[1;33m=\u001b[0m\u001b[0mnewline\u001b[0m\u001b[1;33m)\u001b[0m\u001b[1;33m\u001b[0m\u001b[1;33m\u001b[0m\u001b[0m\n\u001b[0m\u001b[0;32m    267\u001b[0m \u001b[1;33m\u001b[0m\u001b[0m\n\u001b[0;32m    268\u001b[0m \u001b[1;33m\u001b[0m\u001b[0m\n",
      "\u001b[1;32m~\\Anaconda3\\lib\\site-packages\\numpy\\lib\\_datasource.py\u001b[0m in \u001b[0;36mopen\u001b[1;34m(self, path, mode, encoding, newline)\u001b[0m\n\u001b[0;32m    622\u001b[0m                                       encoding=encoding, newline=newline)\n\u001b[0;32m    623\u001b[0m         \u001b[1;32melse\u001b[0m\u001b[1;33m:\u001b[0m\u001b[1;33m\u001b[0m\u001b[1;33m\u001b[0m\u001b[0m\n\u001b[1;32m--> 624\u001b[1;33m             \u001b[1;32mraise\u001b[0m \u001b[0mIOError\u001b[0m\u001b[1;33m(\u001b[0m\u001b[1;34m\"%s not found.\"\u001b[0m \u001b[1;33m%\u001b[0m \u001b[0mpath\u001b[0m\u001b[1;33m)\u001b[0m\u001b[1;33m\u001b[0m\u001b[1;33m\u001b[0m\u001b[0m\n\u001b[0m\u001b[0;32m    625\u001b[0m \u001b[1;33m\u001b[0m\u001b[0m\n\u001b[0;32m    626\u001b[0m \u001b[1;33m\u001b[0m\u001b[0m\n",
      "\u001b[1;31mOSError\u001b[0m: adult.txt not found."
     ]
    }
   ],
   "source": [
    "import numpy as np\n",
    "from sklearn import preprocessing\n",
    "from sklearn import svm\n",
    "from sklearn.model_selection import train_test_split\n",
    "from sklearn.metrics import accuracy_score\n",
    "\n",
    "feature_names = [\"Age\", \"Workclass\", \"fnlwgt\", \"Education\", \"Education-Num\", \"Marital Status\",\n",
    "                 \"Occupation\", \"Relationship\", \"Race\", \"Sex\", \"Capital Gain\", \"Capital Loss\",\n",
    "                 \"Hours per week\", \"Country\"]\n",
    "data = np.genfromtxt('adult.txt', delimiter=', ', dtype=str)\n",
    "\n",
    "# Extract labels\n",
    "labels = data[:,14]\n",
    "le= preprocessing.LabelEncoder()\n",
    "le.fit(labels)\n",
    "labels = le.transform(labels)\n",
    "class_names = le.classes_\n",
    "data = data[:,:-1]\n",
    "\n",
    "# Transform categorical features into integers\n",
    "categorical_features = [1,3,5,6,7,8,9,13]\n",
    "categorical_names = {}\n",
    "for feature in categorical_features:\n",
    "    le = preprocessing.LabelEncoder()\n",
    "    le.fit(data[:, feature])\n",
    "    data[:, feature] = le.transform(data[:, feature])\n",
    "    categorical_names[feature] = le.classes_\n",
    "data = data.astype(float)\n",
    "\n",
    "# Scale and split data\n",
    "scaler = preprocessing.MaxAbsScaler()\n",
    "data_scaled = scaler.fit_transform(data)\n",
    "X_train, X_test, y_train, y_test = train_test_split(data_scaled, labels, test_size=0.33, random_state=42)\n",
    "\n",
    "# SVM classifier\n",
    "clf = svm.LinearSVC(loss='hinge', C=1, random_state = 42)\n",
    "clf.fit(X_train, y_train)\n",
    "predict = clf.predict(X_test)\n",
    "accuracy = accuracy_score(y_test, predict)\n",
    "print(\"SVM accuracy: \" + \"{0:.2f}\".format(accuracy))\n",
    "\n",
    "# Now use one hot encoder for categorical features\n",
    "encoder = preprocessing.OneHotEncoder(categorical_features=categorical_features)\n",
    "encoder.fit(data)\n",
    "encoded_data = encoder.transform(data)\n",
    "data_onehot_scaled = scaler.fit_transform(encoded_data)\n",
    "X_train, X_test, y_train, y_test = train_test_split(data_onehot_scaled, labels, test_size=0.33, random_state=42)\n",
    "\n",
    "# SVM on data with categorical features encoded using one hot encoding\n",
    "clf = svm.LinearSVC(loss='hinge', C=1, random_state = 42)\n",
    "clf.fit(X_train, y_train)\n",
    "predict = clf.predict(X_test)\n",
    "accuracy = accuracy_score(y_test, predict)\n",
    "print(\"SVM one hot encoding accuracy: \" + \"{0:.2f}\".format(accuracy))"
   ]
  },
  {
   "cell_type": "markdown",
   "metadata": {},
   "source": [
    "### Exercise 10\n",
    "Linear classifiers work quite well for certain applications. They usually work quite well for text classification.\n",
    "\n",
    "Run the experiment and suggest some reasons why linear classifiers may work well for text classification. Suggest possible ways to improve text classification (not necessarily for this dataset)."
   ]
  },
  {
   "cell_type": "code",
   "execution_count": 11,
   "metadata": {},
   "outputs": [
    {
     "name": "stderr",
     "output_type": "stream",
     "text": [
      "C:\\Users\\tey_s\\Anaconda3\\lib\\site-packages\\sklearn\\svm\\base.py:929: ConvergenceWarning: Liblinear failed to converge, increase the number of iterations.\n",
      "  \"the number of iterations.\", ConvergenceWarning)\n"
     ]
    },
    {
     "name": "stdout",
     "output_type": "stream",
     "text": [
      "SVM accuracy: 0.81\n",
      "NN accuracy with 100 features (prev best NN performer): 0.60\n",
      "Decision Tree accuracy of : 0.61\n"
     ]
    }
   ],
   "source": [
    "from sklearn import svm\n",
    "from sklearn.feature_extraction.text import TfidfVectorizer\n",
    "from sklearn.datasets import fetch_20newsgroups\n",
    "from sklearn.metrics import accuracy_score\n",
    "from sklearn.feature_selection import SelectKBest, chi2\n",
    "from sklearn import neighbors\n",
    "from sklearn import tree\n",
    "\n",
    "# Select only 4 categories to speed things up\n",
    "categories = ['alt.atheism', 'soc.religion.christian','comp.graphics', 'sci.med']\n",
    "\n",
    "# Fetch training and test sets\n",
    "twenty_train = fetch_20newsgroups(subset='train', remove=('headers','footers','quotes'),\n",
    "                                  categories=categories, shuffle=True, random_state=42)\n",
    "twenty_test = fetch_20newsgroups(subset='test', remove=('headers','footers','quotes'),\n",
    "                                 categories=categories, shuffle=True, random_state=42)\n",
    "\n",
    "# Use tfidf\n",
    "vectorizer = TfidfVectorizer()\n",
    "vectors = vectorizer.fit_transform(twenty_train.data)\n",
    "vectors_test = vectorizer.transform(twenty_test.data)\n",
    "clf = svm.LinearSVC(loss='hinge', C=100)\n",
    "clf.fit(vectors, twenty_train.target)\n",
    "predict = clf.predict(vectors_test)\n",
    "accuracy = accuracy_score(twenty_test.target, predict)\n",
    "print(\"SVM accuracy: \" + \"{0:.2f}\".format(accuracy))\n",
    "\n",
    "fs = SelectKBest(chi2, k=100)\n",
    "vectors_fs = fs.fit_transform(vectors, twenty_train.target)\n",
    "vectors_test_fs = fs.transform(vectors_test)\n",
    "clf = neighbors.KNeighborsClassifier(1)\n",
    "clf.fit(vectors_fs, twenty_train.target)\n",
    "predict = clf.predict(vectors_test_fs)\n",
    "accuracy = accuracy_score(twenty_test.target, predict)\n",
    "print(\"NN accuracy with 100 features (prev best NN performer): \" + \"{0:.2f}\".format(accuracy))\n",
    "\n",
    "clf = tree.DecisionTreeClassifier(random_state=42)\n",
    "clf.fit(vectors, twenty_train.target)\n",
    "predict = clf.predict(vectors_test)\n",
    "accuracy = accuracy_score(twenty_test.target, predict)\n",
    "print(\"Decision Tree accuracy of : \" + \"{0:.2f}\".format(accuracy))"
   ]
  },
  {
   "cell_type": "code",
   "execution_count": null,
   "metadata": {},
   "outputs": [],
   "source": []
  }
 ],
 "metadata": {
  "kernelspec": {
   "display_name": "Python 3",
   "language": "python",
   "name": "python3"
  },
  "language_info": {
   "codemirror_mode": {
    "name": "ipython",
    "version": 3
   },
   "file_extension": ".py",
   "mimetype": "text/x-python",
   "name": "python",
   "nbconvert_exporter": "python",
   "pygments_lexer": "ipython3",
   "version": "3.7.3"
  }
 },
 "nbformat": 4,
 "nbformat_minor": 2
}
